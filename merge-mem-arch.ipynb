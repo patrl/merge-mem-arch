{
 "cells": [
  {
   "cell_type": "markdown",
   "metadata": {},
   "source": [
    "# An implementation in the spirit (but not to the letter) of Adger (2017)\n",
    "\n",
    "In order to get the system of the ground, we need to define a recursive data-type for syntactic objects. Adger uses sets. Equivalently, we can use a tree structure; we want to allow for both binary and unary branching structures."
   ]
  },
  {
   "cell_type": "code",
   "execution_count": 2,
   "metadata": {},
   "outputs": [
    {
     "data": {
      "text/html": [
       "<style>/* Styles used for the Hoogle display in the pager */\n",
       ".hoogle-doc {\n",
       "display: block;\n",
       "padding-bottom: 1.3em;\n",
       "padding-left: 0.4em;\n",
       "}\n",
       ".hoogle-code {\n",
       "display: block;\n",
       "font-family: monospace;\n",
       "white-space: pre;\n",
       "}\n",
       ".hoogle-text {\n",
       "display: block;\n",
       "}\n",
       ".hoogle-name {\n",
       "color: green;\n",
       "font-weight: bold;\n",
       "}\n",
       ".hoogle-head {\n",
       "font-weight: bold;\n",
       "}\n",
       ".hoogle-sub {\n",
       "display: block;\n",
       "margin-left: 0.4em;\n",
       "}\n",
       ".hoogle-package {\n",
       "font-weight: bold;\n",
       "font-style: italic;\n",
       "}\n",
       ".hoogle-module {\n",
       "font-weight: bold;\n",
       "}\n",
       ".hoogle-class {\n",
       "font-weight: bold;\n",
       "}\n",
       ".get-type {\n",
       "color: green;\n",
       "font-weight: bold;\n",
       "font-family: monospace;\n",
       "display: block;\n",
       "white-space: pre-wrap;\n",
       "}\n",
       ".show-type {\n",
       "color: green;\n",
       "font-weight: bold;\n",
       "font-family: monospace;\n",
       "margin-left: 1em;\n",
       "}\n",
       ".mono {\n",
       "font-family: monospace;\n",
       "display: block;\n",
       "}\n",
       ".err-msg {\n",
       "color: red;\n",
       "font-style: italic;\n",
       "font-family: monospace;\n",
       "white-space: pre;\n",
       "display: block;\n",
       "}\n",
       "#unshowable {\n",
       "color: red;\n",
       "font-weight: bold;\n",
       "}\n",
       ".err-msg.in.collapse {\n",
       "padding-top: 0.7em;\n",
       "}\n",
       ".highlight-code {\n",
       "white-space: pre;\n",
       "font-family: monospace;\n",
       "}\n",
       ".suggestion-warning { \n",
       "font-weight: bold;\n",
       "color: rgb(200, 130, 0);\n",
       "}\n",
       ".suggestion-error { \n",
       "font-weight: bold;\n",
       "color: red;\n",
       "}\n",
       ".suggestion-name {\n",
       "font-weight: bold;\n",
       "}\n",
       "</style><span class='get-type'>(Terminal \"John\") :: SO</span>"
      ],
      "text/plain": [
       "(Terminal \"John\") :: SO"
      ]
     },
     "metadata": {},
     "output_type": "display_data"
    },
    {
     "data": {
      "text/html": [
       "<style>/* Styles used for the Hoogle display in the pager */\n",
       ".hoogle-doc {\n",
       "display: block;\n",
       "padding-bottom: 1.3em;\n",
       "padding-left: 0.4em;\n",
       "}\n",
       ".hoogle-code {\n",
       "display: block;\n",
       "font-family: monospace;\n",
       "white-space: pre;\n",
       "}\n",
       ".hoogle-text {\n",
       "display: block;\n",
       "}\n",
       ".hoogle-name {\n",
       "color: green;\n",
       "font-weight: bold;\n",
       "}\n",
       ".hoogle-head {\n",
       "font-weight: bold;\n",
       "}\n",
       ".hoogle-sub {\n",
       "display: block;\n",
       "margin-left: 0.4em;\n",
       "}\n",
       ".hoogle-package {\n",
       "font-weight: bold;\n",
       "font-style: italic;\n",
       "}\n",
       ".hoogle-module {\n",
       "font-weight: bold;\n",
       "}\n",
       ".hoogle-class {\n",
       "font-weight: bold;\n",
       "}\n",
       ".get-type {\n",
       "color: green;\n",
       "font-weight: bold;\n",
       "font-family: monospace;\n",
       "display: block;\n",
       "white-space: pre-wrap;\n",
       "}\n",
       ".show-type {\n",
       "color: green;\n",
       "font-weight: bold;\n",
       "font-family: monospace;\n",
       "margin-left: 1em;\n",
       "}\n",
       ".mono {\n",
       "font-family: monospace;\n",
       "display: block;\n",
       "}\n",
       ".err-msg {\n",
       "color: red;\n",
       "font-style: italic;\n",
       "font-family: monospace;\n",
       "white-space: pre;\n",
       "display: block;\n",
       "}\n",
       "#unshowable {\n",
       "color: red;\n",
       "font-weight: bold;\n",
       "}\n",
       ".err-msg.in.collapse {\n",
       "padding-top: 0.7em;\n",
       "}\n",
       ".highlight-code {\n",
       "white-space: pre;\n",
       "font-family: monospace;\n",
       "}\n",
       ".suggestion-warning { \n",
       "font-weight: bold;\n",
       "color: rgb(200, 130, 0);\n",
       "}\n",
       ".suggestion-error { \n",
       "font-weight: bold;\n",
       "color: red;\n",
       "}\n",
       ".suggestion-name {\n",
       "font-weight: bold;\n",
       "}\n",
       "</style><span class='get-type'>(Unary (Terminal \"John\")) :: SO</span>"
      ],
      "text/plain": [
       "(Unary (Terminal \"John\")) :: SO"
      ]
     },
     "metadata": {},
     "output_type": "display_data"
    },
    {
     "data": {
      "text/html": [
       "<style>/* Styles used for the Hoogle display in the pager */\n",
       ".hoogle-doc {\n",
       "display: block;\n",
       "padding-bottom: 1.3em;\n",
       "padding-left: 0.4em;\n",
       "}\n",
       ".hoogle-code {\n",
       "display: block;\n",
       "font-family: monospace;\n",
       "white-space: pre;\n",
       "}\n",
       ".hoogle-text {\n",
       "display: block;\n",
       "}\n",
       ".hoogle-name {\n",
       "color: green;\n",
       "font-weight: bold;\n",
       "}\n",
       ".hoogle-head {\n",
       "font-weight: bold;\n",
       "}\n",
       ".hoogle-sub {\n",
       "display: block;\n",
       "margin-left: 0.4em;\n",
       "}\n",
       ".hoogle-package {\n",
       "font-weight: bold;\n",
       "font-style: italic;\n",
       "}\n",
       ".hoogle-module {\n",
       "font-weight: bold;\n",
       "}\n",
       ".hoogle-class {\n",
       "font-weight: bold;\n",
       "}\n",
       ".get-type {\n",
       "color: green;\n",
       "font-weight: bold;\n",
       "font-family: monospace;\n",
       "display: block;\n",
       "white-space: pre-wrap;\n",
       "}\n",
       ".show-type {\n",
       "color: green;\n",
       "font-weight: bold;\n",
       "font-family: monospace;\n",
       "margin-left: 1em;\n",
       "}\n",
       ".mono {\n",
       "font-family: monospace;\n",
       "display: block;\n",
       "}\n",
       ".err-msg {\n",
       "color: red;\n",
       "font-style: italic;\n",
       "font-family: monospace;\n",
       "white-space: pre;\n",
       "display: block;\n",
       "}\n",
       "#unshowable {\n",
       "color: red;\n",
       "font-weight: bold;\n",
       "}\n",
       ".err-msg.in.collapse {\n",
       "padding-top: 0.7em;\n",
       "}\n",
       ".highlight-code {\n",
       "white-space: pre;\n",
       "font-family: monospace;\n",
       "}\n",
       ".suggestion-warning { \n",
       "font-weight: bold;\n",
       "color: rgb(200, 130, 0);\n",
       "}\n",
       ".suggestion-error { \n",
       "font-weight: bold;\n",
       "color: red;\n",
       "}\n",
       ".suggestion-name {\n",
       "font-weight: bold;\n",
       "}\n",
       "</style><span class='get-type'>(Binary (Terminal \"John\") (Terminal \"John\")) :: SO</span>"
      ],
      "text/plain": [
       "(Binary (Terminal \"John\") (Terminal \"John\")) :: SO"
      ]
     },
     "metadata": {},
     "output_type": "display_data"
    }
   ],
   "source": [
    "data SO = Terminal String | Unary SO | Binary SO SO deriving (Show,Eq)\n",
    "\n",
    ":t (Terminal \"John\")\n",
    ":t (Unary (Terminal \"John\"))\n",
    ":t (Binary (Terminal \"John\") (Terminal \"John\"))"
   ]
  },
  {
   "cell_type": "markdown",
   "metadata": {},
   "source": [
    "We can think of Adger's \"resouce space\" as a list of syntactic objects (this is in theory more expressive than a multiset, but this won't matter much for our purposes)."
   ]
  },
  {
   "cell_type": "code",
   "execution_count": 3,
   "metadata": {},
   "outputs": [],
   "source": [
    "type ResourceSpace = [SO]"
   ]
  },
  {
   "cell_type": "markdown",
   "metadata": {},
   "source": [
    "We can just treat the lexicon as a list of strings."
   ]
  },
  {
   "cell_type": "code",
   "execution_count": 4,
   "metadata": {},
   "outputs": [],
   "source": [
    "type Lexicon = [String]\n",
    "\n",
    "exampleLex :: Lexicon\n",
    "exampleLex = [\"the\",\"dog\",\"cat\",\"chases\",\"v\",\"T\",\"C\"]"
   ]
  },
  {
   "cell_type": "markdown",
   "metadata": {},
   "source": [
    "Adger's \"Operating space\" is simply a syntactic object. The \"restriction to cardinality of 2\" simply falls out from the data-structure we've already defined, since tree structures can maximally be binary branching.\n",
    "\n",
    "We use `Maybe` here to reflect the fact that the operating space might be empty."
   ]
  },
  {
   "cell_type": "code",
   "execution_count": 5,
   "metadata": {},
   "outputs": [],
   "source": [
    "type OperatingSpace = Maybe SO"
   ]
  },
  {
   "cell_type": "markdown",
   "metadata": {},
   "source": [
    "We can now define some basic operations - \"insert\" writes an expression from the lexicon into an existing resource space.\n",
    "\n",
    "N.b. we could make insert \"safe\" (i.e., not partial) by using `Maybe`, but I won't bother here."
   ]
  },
  {
   "cell_type": "code",
   "execution_count": 6,
   "metadata": {},
   "outputs": [],
   "source": [
    "insert :: Lexicon -> Int -> ResourceSpace -> ResourceSpace\n",
    "insert dict n oldRS = Terminal (dict !! n):oldRS"
   ]
  },
  {
   "cell_type": "code",
   "execution_count": 7,
   "metadata": {},
   "outputs": [
    {
     "data": {
      "text/plain": [
       "[Terminal \"the\"]"
      ]
     },
     "metadata": {},
     "output_type": "display_data"
    }
   ],
   "source": [
    "insert exampleLex 0 []"
   ]
  },
  {
   "cell_type": "markdown",
   "metadata": {},
   "source": [
    "In order to define Select, we need a helper function to determine how syntactic objects combine. We may as well call this `merge`. This covers two cases - merging an XP with an empty object returns that XP, and merging an XP with a YP returns a node with XP and YP as immediate daughters."
   ]
  },
  {
   "cell_type": "code",
   "execution_count": 8,
   "metadata": {},
   "outputs": [],
   "source": [
    "merge :: SO -> Maybe SO -> SO\n",
    "merge xp Nothing = xp\n",
    "merge xp (Just yp) = Binary xp yp"
   ]
  },
  {
   "cell_type": "markdown",
   "metadata": {},
   "source": [
    "Now we can define the first instance of select (writing from RS to OS) as follows (note that we define a derivational step consisting of a pair of a RS and OS)."
   ]
  },
  {
   "cell_type": "code",
   "execution_count": 9,
   "metadata": {},
   "outputs": [],
   "source": [
    "type DerivationStep = (ResourceSpace,OperatingSpace)\n",
    "\n",
    "del :: Int -> [a] -> [a]\n",
    "del n oldList = (\\x -> fst x ++ tail (snd x)) (splitAt n oldList)\n",
    "\n",
    "select1 :: Int -> DerivationStep -> DerivationStep\n",
    "select1 n (ds,os) = (del n ds, Just (merge (ds !! n) os))"
   ]
  },
  {
   "cell_type": "code",
   "execution_count": 10,
   "metadata": {},
   "outputs": [
    {
     "data": {
      "text/plain": [
       "[Terminal \"chases\",Terminal \"cat\",Terminal \"the\"]"
      ]
     },
     "metadata": {},
     "output_type": "display_data"
    }
   ],
   "source": [
    "rs1 = (insert exampleLex 3 . insert exampleLex 2 . insert exampleLex 0) [] \n",
    "rs1"
   ]
  },
  {
   "cell_type": "code",
   "execution_count": 11,
   "metadata": {},
   "outputs": [
    {
     "data": {
      "text/plain": [
       "([Terminal \"chases\",Terminal \"the\"],Just (Terminal \"cat\"))"
      ]
     },
     "metadata": {},
     "output_type": "display_data"
    }
   ],
   "source": [
    "ds1 = select1 1 (rs1,Nothing)\n",
    "ds1"
   ]
  },
  {
   "cell_type": "code",
   "execution_count": 12,
   "metadata": {},
   "outputs": [
    {
     "data": {
      "text/plain": [
       "([Terminal \"chases\"],Just (Binary (Terminal \"the\") (Terminal \"cat\")))"
      ]
     },
     "metadata": {},
     "output_type": "display_data"
    }
   ],
   "source": [
    "ds2 = select1 1 ds1\n",
    "ds2"
   ]
  },
  {
   "cell_type": "markdown",
   "metadata": {},
   "source": [
    "Select2 is going to be a little more complex - first we need a way of listing every SO that is a subpart of some given SO. Each will be a candidate for selection."
   ]
  },
  {
   "cell_type": "code",
   "execution_count": 13,
   "metadata": {},
   "outputs": [],
   "source": [
    "preorderSO :: SO -> [SO]\n",
    "preorderSO (Terminal x) = [Terminal x]\n",
    "preorderSO (Unary child) = Unary child : preorderSO child\n",
    "preorderSO (Binary child1 child2) = (Binary child1 child2:preorderSO child1) ++ preorderSO child2"
   ]
  },
  {
   "cell_type": "markdown",
   "metadata": {},
   "source": [
    "Let's make sure that this gets everything right."
   ]
  },
  {
   "cell_type": "code",
   "execution_count": 14,
   "metadata": {},
   "outputs": [
    {
     "data": {
      "text/plain": [
       "[Terminal \"John\"]"
      ]
     },
     "metadata": {},
     "output_type": "display_data"
    }
   ],
   "source": [
    "preorderSO (Terminal \"John\")"
   ]
  },
  {
   "cell_type": "code",
   "execution_count": 15,
   "metadata": {},
   "outputs": [
    {
     "data": {
      "text/plain": [
       "[Unary (Terminal \"John\"),Terminal \"John\"]"
      ]
     },
     "metadata": {},
     "output_type": "display_data"
    }
   ],
   "source": [
    "preorderSO (Unary (Terminal \"John\"))"
   ]
  },
  {
   "cell_type": "code",
   "execution_count": 16,
   "metadata": {},
   "outputs": [
    {
     "data": {
      "text/plain": [
       "[Binary (Terminal \"Mary\") (Unary (Terminal \"swims\")),Terminal \"Mary\",Unary (Terminal \"swims\"),Terminal \"swims\"]"
      ]
     },
     "metadata": {},
     "output_type": "display_data"
    }
   ],
   "source": [
    "preorderSO (Binary (Terminal \"Mary\") (Unary (Terminal \"swims\")))"
   ]
  },
  {
   "cell_type": "markdown",
   "metadata": {},
   "source": [
    "Now we can define select2."
   ]
  },
  {
   "cell_type": "code",
   "execution_count": 17,
   "metadata": {},
   "outputs": [],
   "source": [
    "select2 :: Int -> DerivationStep -> DerivationStep\n",
    "select2 n (ds,Just os) = (ds, Just (merge (preorderSO os !! n) (Just os)))"
   ]
  },
  {
   "cell_type": "markdown",
   "metadata": {},
   "source": [
    "Let's see how this gets internal merge."
   ]
  },
  {
   "cell_type": "code",
   "execution_count": 18,
   "metadata": {},
   "outputs": [
    {
     "data": {
      "text/plain": [
       "([Terminal \"chases\"],Just (Binary (Terminal \"the\") (Terminal \"cat\")))"
      ]
     },
     "metadata": {},
     "output_type": "display_data"
    },
    {
     "data": {
      "text/plain": [
       "([Terminal \"chases\"],Just (Binary (Terminal \"cat\") (Binary (Terminal \"the\") (Terminal \"cat\"))))"
      ]
     },
     "metadata": {},
     "output_type": "display_data"
    }
   ],
   "source": [
    "ds2\n",
    "select2 2 ds2"
   ]
  },
  {
   "cell_type": "markdown",
   "metadata": {},
   "source": [
    "Finally, select can write from the operating space to the resource space."
   ]
  },
  {
   "cell_type": "code",
   "execution_count": 24,
   "metadata": {},
   "outputs": [],
   "source": [
    "select3 :: Int -> DerivationStep -> DerivationStep\n",
    "select3 n (ds,Just os) = (xp:ds,remove xp (Just os))\n",
    "    where xp = preorderSO os !! n\n",
    "    \n",
    "-- we need a helper function to remove elements from the resource space.\n",
    "    \n",
    "remove :: SO -> OperatingSpace -> OperatingSpace\n",
    "remove xp Nothing = Nothing\n",
    "remove xp (Just yp) = if xp == yp then Nothing else Just yp\n",
    "remove xp (Just (Unary yp)) = if xp == yp then Nothing else Just (Unary yp)\n",
    "remove xp (Just (Binary yp zp))\n",
    "    | xp == yp = Just zp\n",
    "    | xp == zp = Just yp"
   ]
  },
  {
   "cell_type": "markdown",
   "metadata": {},
   "source": [
    "Now we can show how parallel merge is blocked:"
   ]
  },
  {
   "cell_type": "code",
   "execution_count": 25,
   "metadata": {},
   "outputs": [],
   "source": [
    "exampleLex2 :: Lexicon\n",
    "exampleLex2 = [\"guess\", \"what\", \"anson\", \"recommended\", \"before\", \"anson\", \"read\"]"
   ]
  },
  {
   "cell_type": "code",
   "execution_count": 49,
   "metadata": {},
   "outputs": [
    {
     "data": {
      "text/plain": [
       "[Terminal \"guess\",Terminal \"what\",Terminal \"anson\",Terminal \"recommended\",Terminal \"before\",Terminal \"anson\",Terminal \"read\"]"
      ]
     },
     "metadata": {},
     "output_type": "display_data"
    }
   ],
   "source": [
    "rs1 = concat $ (insert exampleLex2 <$> [0..6]) <*> [[]]\n",
    "rs1"
   ]
  },
  {
   "cell_type": "code",
   "execution_count": 58,
   "metadata": {},
   "outputs": [
    {
     "data": {
      "text/plain": [
       "([Terminal \"guess\",Terminal \"anson\",Terminal \"recommended\",Terminal \"before\",Terminal \"anson\",Terminal \"read\"],Just (Terminal \"what\"))"
      ]
     },
     "metadata": {},
     "output_type": "display_data"
    },
    {
     "data": {
      "text/plain": [
       "([Terminal \"anson\",Terminal \"recommended\",Terminal \"before\",Terminal \"anson\",Terminal \"read\"],Just (Binary (Terminal \"guess\") (Terminal \"what\")))"
      ]
     },
     "metadata": {},
     "output_type": "display_data"
    },
    {
     "data": {
      "text/plain": [
       "([Binary (Terminal \"guess\") (Terminal \"what\"),Terminal \"anson\",Terminal \"recommended\",Terminal \"before\",Terminal \"anson\",Terminal \"read\"],Nothing)"
      ]
     },
     "metadata": {},
     "output_type": "display_data"
    },
    {
     "data": {
      "text/plain": [
       "([Terminal \"anson\",Terminal \"recommended\",Terminal \"before\",Terminal \"anson\",Terminal \"read\"],Just (Binary (Terminal \"guess\") (Terminal \"what\")))"
      ]
     },
     "metadata": {},
     "output_type": "display_data"
    }
   ],
   "source": [
    "ds3 = select1 1 (rs1,Nothing)\n",
    "ds3\n",
    "ds4 = select1 0 ds3\n",
    "ds4\n",
    "ds5 = select3 0 ds4\n",
    "ds5\n",
    "ds6 = select1 0 ds5\n",
    "ds6"
   ]
  },
  {
   "cell_type": "markdown",
   "metadata": {},
   "source": [
    "# An alternative architecture using `State`"
   ]
  },
  {
   "cell_type": "markdown",
   "metadata": {},
   "source": [
    "Idea: syntactic objects can be represented as singly linked lists, i.e., trees which have maximally one subtree. Merge is therefore just `(:)`.\n",
    "\n",
    "To keep things maximally simple, let's just terminals as strings.\n",
    "\n",
    "I've defined a helper function `bracket` to print singly linked lists as bracketed representations."
   ]
  },
  {
   "cell_type": "code",
   "execution_count": 67,
   "metadata": {},
   "outputs": [],
   "source": [
    "type Terminal = String\n",
    "\n",
    "type SO = [Terminal]\n",
    "\n",
    "merge :: Terminal -> SO -> SO\n",
    "merge = (:)\n",
    "\n",
    "mergeM = liftM2 merge\n",
    "\n",
    "bracket :: SO -> String\n",
    "bracket [] = \"\"\n",
    "bracket (x:xs) = unwords [\"[\",x,bracket xs,\"]\"]"
   ]
  },
  {
   "cell_type": "code",
   "execution_count": 68,
   "metadata": {},
   "outputs": [
    {
     "data": {
      "text/plain": [
       "\"[ John [ saw [ Mary  ] ] ]\""
      ]
     },
     "metadata": {},
     "output_type": "display_data"
    }
   ],
   "source": [
    "bracket [\"John\",\"saw\",\"Mary\"]"
   ]
  },
  {
   "cell_type": "markdown",
   "metadata": {},
   "source": [
    "This means we can keep things *super* simple, and treat both the resource space and operating spaces as...syntactic objects."
   ]
  },
  {
   "cell_type": "code",
   "execution_count": 69,
   "metadata": {},
   "outputs": [],
   "source": [
    "import Control.Monad.State\n",
    "import Data.Functor.Identity\n",
    "\n",
    "type ResourceSpace = SO\n",
    "type OperatingSpace = SO"
   ]
  },
  {
   "cell_type": "markdown",
   "metadata": {},
   "source": [
    "A derivation lives on the State monad - it reads in a syntactic object, i.e., a singly linked list of terminals -- and outputs a syntactic object."
   ]
  },
  {
   "cell_type": "code",
   "execution_count": 70,
   "metadata": {},
   "outputs": [],
   "source": [
    "type Derivation a = State SO a"
   ]
  },
  {
   "cell_type": "markdown",
   "metadata": {},
   "source": [
    "`select` pops a syntactic object off of the resource stack."
   ]
  },
  {
   "cell_type": "code",
   "execution_count": 71,
   "metadata": {},
   "outputs": [],
   "source": [
    "select :: Derivation Terminal\n",
    "select = StateT (\\(x:yp) -> Identity (x,yp))"
   ]
  },
  {
   "cell_type": "markdown",
   "metadata": {},
   "source": [
    "The priveleged starting state is just an empty syntactic object."
   ]
  },
  {
   "cell_type": "code",
   "execution_count": 59,
   "metadata": {},
   "outputs": [],
   "source": [
    "start :: Derivation SO\n",
    "start = return mempty"
   ]
  },
  {
   "cell_type": "markdown",
   "metadata": {},
   "source": [
    "We can define external merge as `mergeM` applied to `select`. We can now do a simple external merge derivation as follows:"
   ]
  },
  {
   "cell_type": "code",
   "execution_count": 81,
   "metadata": {},
   "outputs": [
    {
     "data": {
      "text/plain": [
       "\"[ John [ left  ] ]\""
      ]
     },
     "metadata": {},
     "output_type": "display_data"
    }
   ],
   "source": [
    "extMerge :: Derivation SO -> Derivation SO\n",
    "extMerge = mergeM select\n",
    "\n",
    "example1 = ($ [\"John\",\"left\"]) . runState $ (extMerge . extMerge) start\n",
    "\n",
    "(bracket . fst) example1"
   ]
  },
  {
   "cell_type": "markdown",
   "metadata": {},
   "source": [
    "Internal merge doesn't need to make any reference to the global state:"
   ]
  },
  {
   "cell_type": "code",
   "execution_count": 89,
   "metadata": {},
   "outputs": [],
   "source": [
    "move :: Int -> SO -> SO\n",
    "move n xp = (xp !! n) `merge` xp\n",
    "\n",
    "intMerge :: Int -> Derivation SO -> Derivation SO\n",
    "intMerge n = (<$>) (move n)"
   ]
  },
  {
   "cell_type": "markdown",
   "metadata": {},
   "source": [
    "We can now do a simple complement movement derivation:"
   ]
  },
  {
   "cell_type": "code",
   "execution_count": 100,
   "metadata": {},
   "outputs": [
    {
     "data": {
      "text/plain": [
       "\"[ who [ John [ likes [ who  ] ] ] ]\""
      ]
     },
     "metadata": {},
     "output_type": "display_data"
    }
   ],
   "source": [
    "example2 = ($ [\"John\",\"likes\",\"who\"]) . runState $ (intMerge 2 . extMerge . extMerge . extMerge) start\n",
    "(bracket . fst) example2"
   ]
  },
  {
   "cell_type": "markdown",
   "metadata": {},
   "source": [
    "A problem -- we can't generate structures with complex specifiers/adjuncts!!\n",
    "\n",
    "The solution -- spell-out pushes a complex structure from the operating space to the back of the queue in the resource space."
   ]
  },
  {
   "cell_type": "code",
   "execution_count": 176,
   "metadata": {},
   "outputs": [],
   "source": [
    "spellout :: Derivation SO -> Derivation SO\n",
    "spellout (StateT der) = StateT $ \\rs -> \n",
    "    let (os,rs') = runIdentity $ der rs\n",
    "    in Identity (mempty,unwords os:rs')"
   ]
  },
  {
   "cell_type": "markdown",
   "metadata": {},
   "source": [
    "A complex specifier derivation + movement:"
   ]
  },
  {
   "cell_type": "code",
   "execution_count": 182,
   "metadata": {},
   "outputs": [
    {
     "data": {
      "text/html": [
       "<style>/* Styles used for the Hoogle display in the pager */\n",
       ".hoogle-doc {\n",
       "display: block;\n",
       "padding-bottom: 1.3em;\n",
       "padding-left: 0.4em;\n",
       "}\n",
       ".hoogle-code {\n",
       "display: block;\n",
       "font-family: monospace;\n",
       "white-space: pre;\n",
       "}\n",
       ".hoogle-text {\n",
       "display: block;\n",
       "}\n",
       ".hoogle-name {\n",
       "color: green;\n",
       "font-weight: bold;\n",
       "}\n",
       ".hoogle-head {\n",
       "font-weight: bold;\n",
       "}\n",
       ".hoogle-sub {\n",
       "display: block;\n",
       "margin-left: 0.4em;\n",
       "}\n",
       ".hoogle-package {\n",
       "font-weight: bold;\n",
       "font-style: italic;\n",
       "}\n",
       ".hoogle-module {\n",
       "font-weight: bold;\n",
       "}\n",
       ".hoogle-class {\n",
       "font-weight: bold;\n",
       "}\n",
       ".get-type {\n",
       "color: green;\n",
       "font-weight: bold;\n",
       "font-family: monospace;\n",
       "display: block;\n",
       "white-space: pre-wrap;\n",
       "}\n",
       ".show-type {\n",
       "color: green;\n",
       "font-weight: bold;\n",
       "font-family: monospace;\n",
       "margin-left: 1em;\n",
       "}\n",
       ".mono {\n",
       "font-family: monospace;\n",
       "display: block;\n",
       "}\n",
       ".err-msg {\n",
       "color: red;\n",
       "font-style: italic;\n",
       "font-family: monospace;\n",
       "white-space: pre;\n",
       "display: block;\n",
       "}\n",
       "#unshowable {\n",
       "color: red;\n",
       "font-weight: bold;\n",
       "}\n",
       ".err-msg.in.collapse {\n",
       "padding-top: 0.7em;\n",
       "}\n",
       ".highlight-code {\n",
       "white-space: pre;\n",
       "font-family: monospace;\n",
       "}\n",
       ".suggestion-warning { \n",
       "font-weight: bold;\n",
       "color: rgb(200, 130, 0);\n",
       "}\n",
       ".suggestion-error { \n",
       "font-weight: bold;\n",
       "color: red;\n",
       "}\n",
       ".suggestion-name {\n",
       "font-weight: bold;\n",
       "}\n",
       "</style><div class=\"suggestion-name\" style=\"clear:both;\">Redundant bracket</div><div class=\"suggestion-row\" style=\"float: left;\"><div class=\"suggestion-warning\">Found:</div><div class=\"highlight-code\" id=\"haskell\">($ (snd step1))</div></div><div class=\"suggestion-row\" style=\"float: left;\"><div class=\"suggestion-warning\">Why Not:</div><div class=\"highlight-code\" id=\"haskell\">($ snd step1)</div></div>"
      ],
      "text/plain": [
       "Line 2: Redundant bracket\n",
       "Found:\n",
       "($ (snd step1))\n",
       "Why not:\n",
       "($ snd step1)"
      ]
     },
     "metadata": {},
     "output_type": "display_data"
    },
    {
     "data": {
      "text/plain": [
       "[\"boy like\",\"who\"]"
      ]
     },
     "metadata": {},
     "output_type": "display_data"
    },
    {
     "ename": "",
     "evalue": "",
     "header": "MessageHeader {mhIdentifiers = [\"169ce232-dee6-4241-b32e-5ab2ab81f10f\"], mhParentHeader = Just (MessageHeader {mhIdentifiers = [\"169ce232-dee6-4241-b32e-5ab2ab81f10f\"], mhParentHeader = Nothing, mhMetadata = Metadata (fromList [(\"recordTiming\",Bool False),(\"deletedCells\",Array []),(\"cellId\",String \"3780b3e3-6ef1-4c90-83ba-77d5a1c0a612\")]), mhMessageId = UUID {uuidToString = \"ee180c66-fadb-43ef-8c4d-423a185f9f69\"}, mhSessionId = UUID {uuidToString = \"169ce232-dee6-4241-b32e-5ab2ab81f10f\"}, mhUsername = \"\", mhMsgType = ExecuteRequestMessage}), mhMetadata = Metadata (fromList []), mhMessageId = UUID {uuidToString = \"3dea635c-f3e3-477b-b979-617d9fb8f297\"}, mhSessionId = UUID {uuidToString = \"169ce232-dee6-4241-b32e-5ab2ab81f10f\"}, mhUsername = \"\", mhMsgType = ExecuteErrorMessage}",
     "output_type": "error",
     "traceback": [
      "<interactive>:2:18-43: Non-exhaustive patterns in lambda"
     ]
    }
   ],
   "source": [
    "step1 = ($ [\"the\",\"boy\",\"like\",\"who\"]) . runState $  . spellout $ (extMerge . extMerge) start\n",
    "step2 = ($ (snd step1)) . runState $ (intMerge 2 . extMerge . extMerge . extMerge) start\n",
    "\n",
    "snd step1\n",
    "(bracket . fst) step2"
   ]
  },
  {
   "cell_type": "code",
   "execution_count": null,
   "metadata": {},
   "outputs": [],
   "source": []
  }
 ],
 "metadata": {
  "kernelspec": {
   "display_name": "Haskell - nixpkgs",
   "language": "haskell",
   "name": "ihaskell_nixpkgs"
  },
  "language_info": {
   "codemirror_mode": "ihaskell",
   "file_extension": ".hs",
   "name": "haskell",
   "pygments_lexer": "Haskell",
   "version": "8.4.4"
  }
 },
 "nbformat": 4,
 "nbformat_minor": 4
}
